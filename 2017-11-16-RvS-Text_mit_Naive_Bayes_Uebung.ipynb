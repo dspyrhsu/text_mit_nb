{
 "cells": [
  {
   "cell_type": "markdown",
   "metadata": {},
   "source": [
    "# Übungen zur Textklassifikation mit Naive Bayes"
   ]
  },
  {
   "cell_type": "markdown",
   "metadata": {},
   "source": [
    "### Aufgabe 1: Theorie\n",
    "Lesen Sie [Sebastian Raschkas Artikel](http://sebastianraschka.com/Articles/2014_naive_bayes_1.html) über das Naive Bayes Verfahren und beantworten Sie folgende Fragen:\n",
    "1. Weshalb ist *zusätzliche Glättung* hilfreich?\n",
    "2. Was versteht man unter dem Begriff *Stop Word*?\n",
    "3. Warum eignet sich das *Multi-variate Bernoulli Naive Bayes Verfahren* für die Spam-Erkennung?"
   ]
  },
  {
   "cell_type": "markdown",
   "metadata": {},
   "source": [
    "### Aufgabe 2: Anwendung auf Spam-Erkennung\n",
    "Verwenden Sie die modifizierte Version `spambase_mod.csv` des [Spambase Datensatzes](https://archive.ics.uci.edu/ml/datasets/Spambase) im Ordner `data`, um ein Modell zu generieren, mit Hilfe dessen Sie Mails als [Spam](https://de.wikipedia.org/wiki/Spam#Begriffsherkunft) oder [Ham](http://bjc.berkeley.edu/bjc-r/cur/programming/data/spam-ham/1-introduction.html) einstufen können. \n",
    "\n",
    "**Zusatzaufgabe**\n",
    "\n",
    "Testen Sie Ihr Modell mit Hilfe eines kleinen [Spam-Ham Datensatzes](http://bjc.berkeley.edu/bjc-r/cur/programming/data/spam-ham/spam-ham-500.txt) aus Berkeley. Ist das mit Hilfe des Spambase Datensatzes generierte Modell dafür brauchbar?\n",
    "\n",
    "**Hinweise** \n",
    "1. Überlegen Sie genau, an welcher Stelle der Datenvorverarbeitung Sie bereits sind, wenn Sie die Daten einlesen. Benötigen Sie noch den Vektorisierungsschritt? Was ist stattdessen zu tun?\n",
    "2. Um den Spam-Ham Datensatz nutzbar zu machen, müssen Sie auch etwas Vorverarbeitung betreiben.\n",
    "3. Das Vokabular ist quasi durch die Spaltennamen des Spambase-Datensatzes vorgegeben (mit kleiner Vorverarbeitung). Um auch die einzelnen Zeichen aus dem Spambase-Datensatz erkennen zu können, muss der *reguläre Ausdruck* für den Tokenizer angepasst werden. Der Aufruf muss daher so erfolgen:\n",
    "`tf = text.TfidfVectorizer(token_pattern=r\"(?u)\\b\\w+\\b|!|\\;|\\(|\\[|\\!|\\$|\\#\")`\n",
    "\n",
    "**Wichtigster Hinweis**\n",
    "Bis zum Aufstellen der Merkmalsmatrix ist die Aufgabe gut machbar. Danach wird es tricky und Sie sollten die Zusatzaufgabe zwar probieren und schauen, wie weit Sie kommen, aber auch nicht zu viel Zeit darauf verwenden."
   ]
  },
  {
   "cell_type": "markdown",
   "metadata": {},
   "source": [
    "## Bemerkung\n",
    "Es ist schon interessant zu sehen, welchen Einfluss die [Monty Python Gruppe](https://de.wikipedia.org/wiki/Monty_Python) auf die Informationsverarbeitung hat. Wie gerade (hoffentlich) gelesen, ist deren [Spam-Sketch](https://de.wikipedia.org/wiki/Spam-Sketch) maßgeblich für die Verwendung des Begriffs bei E-Mails. Was aber viele nicht wissen ist, dass auch der Name der [Programmiersprache Python](https://de.wikipedia.org/wiki/Python_(Programmiersprache)#Entwicklungsgeschichte) auf die Komiker zurück geht."
   ]
  },
  {
   "cell_type": "code",
   "execution_count": null,
   "metadata": {
    "collapsed": true
   },
   "outputs": [],
   "source": []
  }
 ],
 "metadata": {
  "kernelspec": {
   "display_name": "Python 3",
   "language": "python",
   "name": "python3"
  },
  "language_info": {
   "codemirror_mode": {
    "name": "ipython",
    "version": 3
   },
   "file_extension": ".py",
   "mimetype": "text/x-python",
   "name": "python",
   "nbconvert_exporter": "python",
   "pygments_lexer": "ipython3",
   "version": "3.6.3"
  },
  "latex_envs": {
   "LaTeX_envs_menu_present": true,
   "autocomplete": true,
   "bibliofile": "biblio.bib",
   "cite_by": "apalike",
   "current_citInitial": 1,
   "eqLabelWithNumbers": true,
   "eqNumInitial": 1,
   "hotkeys": {
    "equation": "Ctrl-E",
    "itemize": "Ctrl-I"
   },
   "labels_anchors": false,
   "latex_user_defs": false,
   "report_style_numbering": false,
   "user_envs_cfg": false
  }
 },
 "nbformat": 4,
 "nbformat_minor": 2
}
